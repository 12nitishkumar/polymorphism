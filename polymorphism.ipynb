{
 "cells": [
  {
   "cell_type": "code",
   "execution_count": 1,
   "id": "6b24739c-e8d6-441a-87aa-f9e9a763e2f3",
   "metadata": {},
   "outputs": [],
   "source": [
    "def test(a,b) :\n",
    "    return a+b"
   ]
  },
  {
   "cell_type": "code",
   "execution_count": 2,
   "id": "e5fa814e-8a9f-4c83-927c-444a6524132c",
   "metadata": {},
   "outputs": [
    {
     "data": {
      "text/plain": [
       "7"
      ]
     },
     "execution_count": 2,
     "metadata": {},
     "output_type": "execute_result"
    }
   ],
   "source": [
    "test(3,4)"
   ]
  },
  {
   "cell_type": "code",
   "execution_count": 7,
   "id": "c4fbeb45-a612-4603-9fe2-5f8616eb57d7",
   "metadata": {},
   "outputs": [
    {
     "data": {
      "text/plain": [
       "'sudh kumar '"
      ]
     },
     "execution_count": 7,
     "metadata": {},
     "output_type": "execute_result"
    }
   ],
   "source": [
    "test(\"sudh \" , \"kumar \")"
   ]
  },
  {
   "cell_type": "code",
   "execution_count": 8,
   "id": "16b070df-d852-4a03-a995-5c182edfaa24",
   "metadata": {},
   "outputs": [
    {
     "data": {
      "text/plain": [
       "[3, 4, 5, 6, 7, 8, 45, 23, 12, 45, 49]"
      ]
     },
     "execution_count": 8,
     "metadata": {},
     "output_type": "execute_result"
    }
   ],
   "source": [
    "test([3,4,5,6,7,8],[45,23,12,45,49])"
   ]
  },
  {
   "cell_type": "code",
   "execution_count": 9,
   "id": "ac4c19be-b397-42fa-b473-7cb0a482c2d4",
   "metadata": {},
   "outputs": [],
   "source": [
    "class data_science:\n",
    "    def syllabus(self):\n",
    "        print(\"this is my syllabus for data science masters\")"
   ]
  },
  {
   "cell_type": "code",
   "execution_count": 10,
   "id": "4e015f0e-9114-46df-91b0-d7f2648ecff9",
   "metadata": {},
   "outputs": [],
   "source": [
    "class web_dev:\n",
    "    def syllabus(self):\n",
    "        print(\"this is my syllabus for web dev\")"
   ]
  },
  {
   "cell_type": "code",
   "execution_count": 11,
   "id": "063fdb40-84b7-4b23-a660-a99c96a9a915",
   "metadata": {},
   "outputs": [],
   "source": [
    "def class_parcer(class_obj):\n",
    "    for i in class_obj :\n",
    "        i.syllabus()"
   ]
  },
  {
   "cell_type": "code",
   "execution_count": 12,
   "id": "69c8f844-8ea9-4118-ae55-1660aaf9baa1",
   "metadata": {},
   "outputs": [],
   "source": [
    "data_science = data_science()"
   ]
  },
  {
   "cell_type": "code",
   "execution_count": 13,
   "id": "25bd514e-5075-401e-889a-539be4ddd776",
   "metadata": {},
   "outputs": [],
   "source": [
    "web_dev = web_dev()"
   ]
  },
  {
   "cell_type": "code",
   "execution_count": 14,
   "id": "d4ec363b-83f0-4ec7-93bd-a6e007426ae0",
   "metadata": {},
   "outputs": [],
   "source": [
    "class_obj = [data_science,web_dev]"
   ]
  },
  {
   "cell_type": "code",
   "execution_count": 15,
   "id": "4b27b1f9-39bc-4eb5-a5cc-60b77451b281",
   "metadata": {},
   "outputs": [
    {
     "name": "stdout",
     "output_type": "stream",
     "text": [
      "this is my syllabus for data science masters\n",
      "this is my syllabus for web dev\n"
     ]
    }
   ],
   "source": [
    "class_parcer(class_obj)"
   ]
  },
  {
   "cell_type": "code",
   "execution_count": null,
   "id": "e9ac1d1a-d691-4cc4-93df-33188c8a332c",
   "metadata": {},
   "outputs": [],
   "source": []
  }
 ],
 "metadata": {
  "kernelspec": {
   "display_name": "Python 3 (ipykernel)",
   "language": "python",
   "name": "python3"
  },
  "language_info": {
   "codemirror_mode": {
    "name": "ipython",
    "version": 3
   },
   "file_extension": ".py",
   "mimetype": "text/x-python",
   "name": "python",
   "nbconvert_exporter": "python",
   "pygments_lexer": "ipython3",
   "version": "3.10.8"
  }
 },
 "nbformat": 4,
 "nbformat_minor": 5
}
